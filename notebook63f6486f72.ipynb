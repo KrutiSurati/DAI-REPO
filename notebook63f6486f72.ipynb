{
 "cells": [
  {
   "cell_type": "code",
   "execution_count": 1,
   "id": "307ccbb4",
   "metadata": {
    "_cell_guid": "b1076dfc-b9ad-4769-8c92-a6c4dae69d19",
    "_uuid": "8f2839f25d086af736a60e9eeb907d3b93b6e0e5",
    "execution": {
     "iopub.execute_input": "2024-11-05T16:24:03.242029Z",
     "iopub.status.busy": "2024-11-05T16:24:03.241442Z",
     "iopub.status.idle": "2024-11-05T16:24:04.066604Z",
     "shell.execute_reply": "2024-11-05T16:24:04.065003Z"
    },
    "papermill": {
     "duration": 0.835675,
     "end_time": "2024-11-05T16:24:04.069922",
     "exception": false,
     "start_time": "2024-11-05T16:24:03.234247",
     "status": "completed"
    },
    "tags": []
   },
   "outputs": [
    {
     "name": "stdout",
     "output_type": "stream",
     "text": [
      "/kaggle/input/dai-tut-2/Plastic Waste Around the World.csv\n"
     ]
    }
   ],
   "source": [
    "# This Python 3 environment comes with many helpful analytics libraries installed\n",
    "# It is defined by the kaggle/python Docker image: https://github.com/kaggle/docker-python\n",
    "# For example, here's several helpful packages to load\n",
    "\n",
    "import numpy as np # linear algebra\n",
    "import pandas as pd # data processing, CSV file I/O (e.g. pd.read_csv)\n",
    "\n",
    "# Input data files are available in the read-only \"../input/\" directory\n",
    "# For example, running this (by clicking run or pressing Shift+Enter) will list all files under the input directory\n",
    "\n",
    "import os\n",
    "for dirname, _, filenames in os.walk('/kaggle/input'):\n",
    "    for filename in filenames:\n",
    "        print(os.path.join(dirname, filename))\n",
    "\n",
    "# You can write up to 20GB to the current directory (/kaggle/working/) that gets preserved as output when you create a version using \"Save & Run All\" \n",
    "# You can also write temporary files to /kaggle/temp/, but they won't be saved outside of the current session"
   ]
  },
  {
   "cell_type": "code",
   "execution_count": 2,
   "id": "5d2936a6",
   "metadata": {
    "execution": {
     "iopub.execute_input": "2024-11-05T16:24:04.082426Z",
     "iopub.status.busy": "2024-11-05T16:24:04.081842Z",
     "iopub.status.idle": "2024-11-05T16:24:04.140876Z",
     "shell.execute_reply": "2024-11-05T16:24:04.139740Z"
    },
    "papermill": {
     "duration": 0.067785,
     "end_time": "2024-11-05T16:24:04.143154",
     "exception": false,
     "start_time": "2024-11-05T16:24:04.075369",
     "status": "completed"
    },
    "tags": []
   },
   "outputs": [
    {
     "name": "stdout",
     "output_type": "stream",
     "text": [
      "   Total_Plastic_Waste_MT  Recycling_Rate  Per_Capita_Waste_KG  \\\n",
      "0                   59.08            29.8                 41.2   \n",
      "1                   42.02            32.1                127.5   \n",
      "2                   26.33            11.5                 19.3   \n",
      "3                    7.99            84.8                 63.2   \n",
      "4                    6.28            56.1                 75.6   \n",
      "\n",
      "   Country_Albania  Country_Algeria  Country_Angola  Country_Argentina  \\\n",
      "0            False            False           False              False   \n",
      "1            False            False           False              False   \n",
      "2            False            False           False              False   \n",
      "3            False            False           False              False   \n",
      "4            False            False           False              False   \n",
      "\n",
      "   Country_Armenia  Country_Australia  Country_Austria  ...  \\\n",
      "0            False              False            False  ...   \n",
      "1            False              False            False  ...   \n",
      "2            False              False            False  ...   \n",
      "3            False              False            False  ...   \n",
      "4            False              False            False  ...   \n",
      "\n",
      "   Main_Sources_Electronics_Packaging  Main_Sources_Food_Packaging  \\\n",
      "0                               False                        False   \n",
      "1                               False                        False   \n",
      "2                               False                        False   \n",
      "3                               False                        False   \n",
      "4                               False                        False   \n",
      "\n",
      "   Main_Sources_Industrial_Consumer  Main_Sources_Industrial_Packaging  \\\n",
      "0                             False                              False   \n",
      "1                             False                              False   \n",
      "2                             False                              False   \n",
      "3                             False                              False   \n",
      "4                             False                              False   \n",
      "\n",
      "   Main_Sources_Packaging_Consumer  Main_Sources_Packaging_Electronics  \\\n",
      "0                            False                               False   \n",
      "1                             True                               False   \n",
      "2                            False                               False   \n",
      "3                            False                                True   \n",
      "4                            False                               False   \n",
      "\n",
      "   Main_Sources_Packaging_Industrial  Coastal_Waste_Risk_Low  \\\n",
      "0                               True                   False   \n",
      "1                              False                   False   \n",
      "2                              False                   False   \n",
      "3                              False                   False   \n",
      "4                              False                    True   \n",
      "\n",
      "   Coastal_Waste_Risk_Medium  Coastal_Waste_Risk_Very_High  \n",
      "0                      False                         False  \n",
      "1                       True                         False  \n",
      "2                      False                         False  \n",
      "3                       True                         False  \n",
      "4                      False                         False  \n",
      "\n",
      "[5 rows x 179 columns]\n"
     ]
    }
   ],
   "source": [
    "import pandas as pd\n",
    "\n",
    "# Load the dataset\n",
    "csv_file_path = '/kaggle/input/dai-tut-2/Plastic Waste Around the World.csv'  # Replace with the actual path to your CSV file\n",
    "data = pd.read_csv(csv_file_path)\n",
    "\n",
    "# Perform one-hot encoding on categorical columns: 'Country', 'Main_Sources', and 'Coastal_Waste_Risk'\n",
    "encoded_data = pd.get_dummies(data, columns=['Country', 'Main_Sources', 'Coastal_Waste_Risk'], drop_first=True)\n",
    "\n",
    "# Display the first few rows of the encoded dataset\n",
    "print(encoded_data.head())\n",
    "\n",
    "# If you want to save the encoded dataset to a new CSV file\n",
    "encoded_data.to_csv('encoded_dataset.csv', index=False)\n"
   ]
  },
  {
   "cell_type": "code",
   "execution_count": 3,
   "id": "e81779ac",
   "metadata": {
    "execution": {
     "iopub.execute_input": "2024-11-05T16:24:04.155507Z",
     "iopub.status.busy": "2024-11-05T16:24:04.154403Z",
     "iopub.status.idle": "2024-11-05T16:24:04.162582Z",
     "shell.execute_reply": "2024-11-05T16:24:04.161481Z"
    },
    "papermill": {
     "duration": 0.016601,
     "end_time": "2024-11-05T16:24:04.164759",
     "exception": false,
     "start_time": "2024-11-05T16:24:04.148158",
     "status": "completed"
    },
    "tags": []
   },
   "outputs": [
    {
     "data": {
      "text/plain": [
       "(165, 6)"
      ]
     },
     "execution_count": 3,
     "metadata": {},
     "output_type": "execute_result"
    }
   ],
   "source": [
    "data.shape"
   ]
  },
  {
   "cell_type": "code",
   "execution_count": 4,
   "id": "1f66245f",
   "metadata": {
    "execution": {
     "iopub.execute_input": "2024-11-05T16:24:04.176945Z",
     "iopub.status.busy": "2024-11-05T16:24:04.176525Z",
     "iopub.status.idle": "2024-11-05T16:24:04.191009Z",
     "shell.execute_reply": "2024-11-05T16:24:04.189878Z"
    },
    "papermill": {
     "duration": 0.023168,
     "end_time": "2024-11-05T16:24:04.193166",
     "exception": false,
     "start_time": "2024-11-05T16:24:04.169998",
     "status": "completed"
    },
    "tags": []
   },
   "outputs": [
    {
     "data": {
      "text/plain": [
       "<bound method DataFrame.info of               Country  Total_Plastic_Waste_MT           Main_Sources  \\\n",
       "0               China                   59.08   Packaging_Industrial   \n",
       "1       United States                   42.02     Packaging_Consumer   \n",
       "2               India                   26.33         Consumer_Goods   \n",
       "3               Japan                    7.99  Packaging_Electronics   \n",
       "4             Germany                    6.28   Automotive_Packaging   \n",
       "..                ...                     ...                    ...   \n",
       "160  Marshall Islands                    0.01     Consumer_Packaging   \n",
       "161        Micronesia                    0.01     Consumer_Packaging   \n",
       "162             Palau                    0.01     Consumer_Packaging   \n",
       "163            Tuvalu                    0.01     Consumer_Packaging   \n",
       "164             Nauru                    0.01     Consumer_Packaging   \n",
       "\n",
       "     Recycling_Rate  Per_Capita_Waste_KG Coastal_Waste_Risk  \n",
       "0              29.8                 41.2               High  \n",
       "1              32.1                127.5             Medium  \n",
       "2              11.5                 19.3               High  \n",
       "3              84.8                 63.2             Medium  \n",
       "4              56.1                 75.6                Low  \n",
       "..              ...                  ...                ...  \n",
       "160             1.8                168.5               High  \n",
       "161             1.5                 86.3               High  \n",
       "162            12.3                437.2               High  \n",
       "163             1.2                833.3               High  \n",
       "164             0.9                927.8               High  \n",
       "\n",
       "[165 rows x 6 columns]>"
      ]
     },
     "execution_count": 4,
     "metadata": {},
     "output_type": "execute_result"
    }
   ],
   "source": [
    "data.info"
   ]
  },
  {
   "cell_type": "code",
   "execution_count": 5,
   "id": "3be589d9",
   "metadata": {
    "execution": {
     "iopub.execute_input": "2024-11-05T16:24:04.205560Z",
     "iopub.status.busy": "2024-11-05T16:24:04.205154Z",
     "iopub.status.idle": "2024-11-05T16:24:04.218846Z",
     "shell.execute_reply": "2024-11-05T16:24:04.217765Z"
    },
    "papermill": {
     "duration": 0.022545,
     "end_time": "2024-11-05T16:24:04.221073",
     "exception": false,
     "start_time": "2024-11-05T16:24:04.198528",
     "status": "completed"
    },
    "tags": []
   },
   "outputs": [
    {
     "data": {
      "text/plain": [
       "<bound method NDFrame.describe of               Country  Total_Plastic_Waste_MT           Main_Sources  \\\n",
       "0               China                   59.08   Packaging_Industrial   \n",
       "1       United States                   42.02     Packaging_Consumer   \n",
       "2               India                   26.33         Consumer_Goods   \n",
       "3               Japan                    7.99  Packaging_Electronics   \n",
       "4             Germany                    6.28   Automotive_Packaging   \n",
       "..                ...                     ...                    ...   \n",
       "160  Marshall Islands                    0.01     Consumer_Packaging   \n",
       "161        Micronesia                    0.01     Consumer_Packaging   \n",
       "162             Palau                    0.01     Consumer_Packaging   \n",
       "163            Tuvalu                    0.01     Consumer_Packaging   \n",
       "164             Nauru                    0.01     Consumer_Packaging   \n",
       "\n",
       "     Recycling_Rate  Per_Capita_Waste_KG Coastal_Waste_Risk  \n",
       "0              29.8                 41.2               High  \n",
       "1              32.1                127.5             Medium  \n",
       "2              11.5                 19.3               High  \n",
       "3              84.8                 63.2             Medium  \n",
       "4              56.1                 75.6                Low  \n",
       "..              ...                  ...                ...  \n",
       "160             1.8                168.5               High  \n",
       "161             1.5                 86.3               High  \n",
       "162            12.3                437.2               High  \n",
       "163             1.2                833.3               High  \n",
       "164             0.9                927.8               High  \n",
       "\n",
       "[165 rows x 6 columns]>"
      ]
     },
     "execution_count": 5,
     "metadata": {},
     "output_type": "execute_result"
    }
   ],
   "source": [
    "data.describe"
   ]
  },
  {
   "cell_type": "code",
   "execution_count": 6,
   "id": "38972c0a",
   "metadata": {
    "execution": {
     "iopub.execute_input": "2024-11-05T16:24:04.234705Z",
     "iopub.status.busy": "2024-11-05T16:24:04.233587Z",
     "iopub.status.idle": "2024-11-05T16:24:04.242751Z",
     "shell.execute_reply": "2024-11-05T16:24:04.241756Z"
    },
    "papermill": {
     "duration": 0.018257,
     "end_time": "2024-11-05T16:24:04.244992",
     "exception": false,
     "start_time": "2024-11-05T16:24:04.226735",
     "status": "completed"
    },
    "tags": []
   },
   "outputs": [
    {
     "data": {
      "text/plain": [
       "Country                   0\n",
       "Total_Plastic_Waste_MT    0\n",
       "Main_Sources              0\n",
       "Recycling_Rate            0\n",
       "Per_Capita_Waste_KG       0\n",
       "Coastal_Waste_Risk        0\n",
       "dtype: int64"
      ]
     },
     "execution_count": 6,
     "metadata": {},
     "output_type": "execute_result"
    }
   ],
   "source": [
    "data.isnull().sum()"
   ]
  },
  {
   "cell_type": "code",
   "execution_count": 7,
   "id": "c2c735b7",
   "metadata": {
    "execution": {
     "iopub.execute_input": "2024-11-05T16:24:04.258149Z",
     "iopub.status.busy": "2024-11-05T16:24:04.257388Z",
     "iopub.status.idle": "2024-11-05T16:24:04.265126Z",
     "shell.execute_reply": "2024-11-05T16:24:04.264044Z"
    },
    "papermill": {
     "duration": 0.016769,
     "end_time": "2024-11-05T16:24:04.267333",
     "exception": false,
     "start_time": "2024-11-05T16:24:04.250564",
     "status": "completed"
    },
    "tags": []
   },
   "outputs": [
    {
     "name": "stdout",
     "output_type": "stream",
     "text": [
      "Features (X) shape: (165, 178)\n",
      "Target (y) shape: (165,)\n"
     ]
    }
   ],
   "source": [
    "# Assuming 'Recycling_Rate' is the target variable\n",
    "target_column = 'Recycling_Rate'\n",
    "\n",
    "# Separating features (X) and target (y)\n",
    "X = encoded_data.drop(columns=[target_column])  # Features: all columns except the target\n",
    "y = encoded_data[target_column]  # Target: the column we want to predict\n",
    "\n",
    "# Display the shape of X (features) and y (target)\n",
    "print(f'Features (X) shape: {X.shape}')\n",
    "print(f'Target (y) shape: {y.shape}')\n"
   ]
  },
  {
   "cell_type": "code",
   "execution_count": 8,
   "id": "837c6260",
   "metadata": {
    "execution": {
     "iopub.execute_input": "2024-11-05T16:24:04.281828Z",
     "iopub.status.busy": "2024-11-05T16:24:04.280557Z",
     "iopub.status.idle": "2024-11-05T16:24:04.289241Z",
     "shell.execute_reply": "2024-11-05T16:24:04.288123Z"
    },
    "papermill": {
     "duration": 0.017547,
     "end_time": "2024-11-05T16:24:04.291392",
     "exception": false,
     "start_time": "2024-11-05T16:24:04.273845",
     "status": "completed"
    },
    "tags": []
   },
   "outputs": [
    {
     "name": "stdout",
     "output_type": "stream",
     "text": [
      "0   NaN\n",
      "1   NaN\n",
      "2   NaN\n",
      "3   NaN\n",
      "4   NaN\n",
      "Name: Recycling_Rate, dtype: float64\n"
     ]
    }
   ],
   "source": [
    "# Convert 'yes'/'no' values in the target column to binary (1 for 'yes', 0 for 'no')\n",
    "y_binary = y.map({'yes': 1, 'no': 0})\n",
    "\n",
    "# Display the first few values of the binary target column\n",
    "print(y_binary.head())\n"
   ]
  },
  {
   "cell_type": "code",
   "execution_count": 9,
   "id": "b11de13d",
   "metadata": {
    "execution": {
     "iopub.execute_input": "2024-11-05T16:24:04.304770Z",
     "iopub.status.busy": "2024-11-05T16:24:04.303858Z",
     "iopub.status.idle": "2024-11-05T16:24:05.548128Z",
     "shell.execute_reply": "2024-11-05T16:24:05.546482Z"
    },
    "papermill": {
     "duration": 1.253705,
     "end_time": "2024-11-05T16:24:05.550719",
     "exception": false,
     "start_time": "2024-11-05T16:24:04.297014",
     "status": "completed"
    },
    "tags": []
   },
   "outputs": [
    {
     "name": "stdout",
     "output_type": "stream",
     "text": [
      "X_train shape: (132, 178)\n",
      "X_test shape: (33, 178)\n",
      "y_train shape: (132,)\n",
      "y_test shape: (33,)\n"
     ]
    }
   ],
   "source": [
    "from sklearn.model_selection import train_test_split\n",
    "\n",
    "# Split data into training and testing sets (80% train, 20% test by default)\n",
    "X_train, X_test, y_train, y_test = train_test_split(X, y_binary, test_size=0.2, random_state=42)\n",
    "\n",
    "# Display the shapes of the training and testing sets\n",
    "print(f'X_train shape: {X_train.shape}')\n",
    "print(f'X_test shape: {X_test.shape}')\n",
    "print(f'y_train shape: {y_train.shape}')\n",
    "print(f'y_test shape: {y_test.shape}')\n"
   ]
  },
  {
   "cell_type": "code",
   "execution_count": 10,
   "id": "aca0c4c9",
   "metadata": {
    "execution": {
     "iopub.execute_input": "2024-11-05T16:24:05.564303Z",
     "iopub.status.busy": "2024-11-05T16:24:05.563600Z",
     "iopub.status.idle": "2024-11-05T16:24:06.247411Z",
     "shell.execute_reply": "2024-11-05T16:24:06.246113Z"
    },
    "papermill": {
     "duration": 0.693432,
     "end_time": "2024-11-05T16:24:06.250064",
     "exception": false,
     "start_time": "2024-11-05T16:24:05.556632",
     "status": "completed"
    },
    "tags": []
   },
   "outputs": [
    {
     "name": "stdout",
     "output_type": "stream",
     "text": [
      "   categorical_column_0  categorical_column_1\n",
      "0                     0                     1\n",
      "1                     1                     0\n",
      "2                     1                     1\n",
      "3                     0                     1\n",
      "4                     1                     0\n",
      "5                     1                     1\n"
     ]
    }
   ],
   "source": [
    "import pandas as pd\n",
    "from category_encoders import BinaryEncoder\n",
    "\n",
    "# Example data\n",
    "data = {'categorical_column': ['A', 'B', 'C', 'A', 'B', 'C']}\n",
    "df = pd.DataFrame(data)\n",
    "\n",
    "# Apply Binary Encoding\n",
    "encoder = BinaryEncoder(cols=['categorical_column'])\n",
    "df_encoded = encoder.fit_transform(df)\n",
    "\n",
    "print(df_encoded)\n"
   ]
  },
  {
   "cell_type": "code",
   "execution_count": 11,
   "id": "c73d2f00",
   "metadata": {
    "execution": {
     "iopub.execute_input": "2024-11-05T16:24:06.263755Z",
     "iopub.status.busy": "2024-11-05T16:24:06.263211Z",
     "iopub.status.idle": "2024-11-05T16:24:06.285994Z",
     "shell.execute_reply": "2024-11-05T16:24:06.284610Z"
    },
    "papermill": {
     "duration": 0.032439,
     "end_time": "2024-11-05T16:24:06.288363",
     "exception": false,
     "start_time": "2024-11-05T16:24:06.255924",
     "status": "completed"
    },
    "tags": []
   },
   "outputs": [
    {
     "name": "stdout",
     "output_type": "stream",
     "text": [
      "   categorical_column_0\n",
      "0                     0\n",
      "1                     1\n",
      "2                     1\n",
      "3                     0\n",
      "4                     1\n",
      "5                     1\n"
     ]
    }
   ],
   "source": [
    "import pandas as pd\n",
    "from category_encoders import BinaryEncoder\n",
    "\n",
    "# Example data\n",
    "data = {'categorical_column': ['A', 'B', 'C', 'A', 'B', 'C']}\n",
    "df = pd.DataFrame(data)\n",
    "\n",
    "# Apply Binary Encoding\n",
    "encoder = BinaryEncoder(cols=['categorical_column'])\n",
    "df_encoded = encoder.fit_transform(df)\n",
    "\n",
    "# If you want to remove the extra column (e.g., the last column)\n",
    "df_encoded = df_encoded.iloc[:, :-1]  # Removes the last column\n",
    "\n",
    "print(df_encoded)\n"
   ]
  },
  {
   "cell_type": "code",
   "execution_count": 12,
   "id": "f1fbb103",
   "metadata": {
    "execution": {
     "iopub.execute_input": "2024-11-05T16:24:06.302051Z",
     "iopub.status.busy": "2024-11-05T16:24:06.301354Z",
     "iopub.status.idle": "2024-11-05T16:24:06.323106Z",
     "shell.execute_reply": "2024-11-05T16:24:06.321780Z"
    },
    "papermill": {
     "duration": 0.031293,
     "end_time": "2024-11-05T16:24:06.325487",
     "exception": false,
     "start_time": "2024-11-05T16:24:06.294194",
     "status": "completed"
    },
    "tags": []
   },
   "outputs": [
    {
     "name": "stdout",
     "output_type": "stream",
     "text": [
      "   categorical_column_0  categorical_column_1\n",
      "0                     0                     1\n",
      "1                     1                     0\n",
      "2                     1                     1\n",
      "3                     0                     1\n",
      "4                     1                     0\n",
      "5                     1                     1\n"
     ]
    }
   ],
   "source": [
    "\n",
    "import pandas as pd\n",
    "from category_encoders import BinaryEncoder\n",
    "\n",
    "# Sample dataset\n",
    "data = {'categorical_column': ['A', 'B', 'C', 'A', 'B', 'C']}\n",
    "df = pd.DataFrame(data)\n",
    "\n",
    "# Apply Binary Encoding\n",
    "encoder = BinaryEncoder(cols=['categorical_column'])\n",
    "df_encoded = encoder.fit_transform(df)\n",
    "\n",
    "# View the encoded data\n",
    "print(df_encoded)\n",
    "# Remove the last extra column if needed\n",
    "df_encoded = df_encoded.iloc[:, :-1]\n"
   ]
  },
  {
   "cell_type": "code",
   "execution_count": 13,
   "id": "e2398422",
   "metadata": {
    "execution": {
     "iopub.execute_input": "2024-11-05T16:24:06.339291Z",
     "iopub.status.busy": "2024-11-05T16:24:06.338777Z",
     "iopub.status.idle": "2024-11-05T16:24:06.348675Z",
     "shell.execute_reply": "2024-11-05T16:24:06.347570Z"
    },
    "papermill": {
     "duration": 0.01956,
     "end_time": "2024-11-05T16:24:06.351130",
     "exception": false,
     "start_time": "2024-11-05T16:24:06.331570",
     "status": "completed"
    },
    "tags": []
   },
   "outputs": [
    {
     "name": "stdout",
     "output_type": "stream",
     "text": [
      "  categorical_column  categorical_column_encoded\n",
      "0                  A                           0\n",
      "1                  B                           1\n",
      "2                  C                           2\n",
      "3                  A                           0\n",
      "4                  B                           1\n",
      "5                  C                           2\n"
     ]
    }
   ],
   "source": [
    "import pandas as pd\n",
    "from sklearn.preprocessing import LabelEncoder\n",
    "\n",
    "# Sample dataset\n",
    "data = {'categorical_column': ['A', 'B', 'C', 'A', 'B', 'C']}\n",
    "df = pd.DataFrame(data)\n",
    "\n",
    "# Apply Label Encoding\n",
    "label_encoder = LabelEncoder()\n",
    "df['categorical_column_encoded'] = label_encoder.fit_transform(df['categorical_column'])\n",
    "\n",
    "# View the encoded data\n",
    "print(df)\n"
   ]
  },
  {
   "cell_type": "code",
   "execution_count": 14,
   "id": "c64747d5",
   "metadata": {
    "execution": {
     "iopub.execute_input": "2024-11-05T16:24:06.365019Z",
     "iopub.status.busy": "2024-11-05T16:24:06.364578Z",
     "iopub.status.idle": "2024-11-05T16:24:06.374634Z",
     "shell.execute_reply": "2024-11-05T16:24:06.373523Z"
    },
    "papermill": {
     "duration": 0.019752,
     "end_time": "2024-11-05T16:24:06.376964",
     "exception": false,
     "start_time": "2024-11-05T16:24:06.357212",
     "status": "completed"
    },
    "tags": []
   },
   "outputs": [
    {
     "name": "stdout",
     "output_type": "stream",
     "text": [
      "   categorical_column_encoded\n",
      "0                           0\n",
      "1                           1\n",
      "2                           2\n",
      "3                           0\n",
      "4                           1\n",
      "5                           2\n"
     ]
    }
   ],
   "source": [
    "import pandas as pd\n",
    "from sklearn.preprocessing import LabelEncoder\n",
    "\n",
    "# Sample dataset\n",
    "data = {'categorical_column': ['A', 'B', 'C', 'A', 'B', 'C']}\n",
    "df = pd.DataFrame(data)\n",
    "\n",
    "# Apply Label Encoding\n",
    "label_encoder = LabelEncoder()\n",
    "df['categorical_column_encoded'] = label_encoder.fit_transform(df['categorical_column'])\n",
    "\n",
    "# Drop the original categorical column\n",
    "df = df.drop('categorical_column', axis=1)\n",
    "\n",
    "# View the updated dataframe\n",
    "print(df)\n"
   ]
  },
  {
   "cell_type": "code",
   "execution_count": 15,
   "id": "9e2c1409",
   "metadata": {
    "execution": {
     "iopub.execute_input": "2024-11-05T16:24:06.390814Z",
     "iopub.status.busy": "2024-11-05T16:24:06.390387Z",
     "iopub.status.idle": "2024-11-05T16:24:06.402003Z",
     "shell.execute_reply": "2024-11-05T16:24:06.400857Z"
    },
    "papermill": {
     "duration": 0.021379,
     "end_time": "2024-11-05T16:24:06.404536",
     "exception": false,
     "start_time": "2024-11-05T16:24:06.383157",
     "status": "completed"
    },
    "tags": []
   },
   "outputs": [
    {
     "name": "stdout",
     "output_type": "stream",
     "text": [
      "Using Label Encoding (Unique values: 5)\n",
      "   categorical_column_encoded\n",
      "0                           0\n",
      "1                           1\n",
      "2                           2\n",
      "3                           0\n",
      "4                           1\n",
      "5                           2\n",
      "6                           3\n",
      "7                           4\n"
     ]
    }
   ],
   "source": [
    "import pandas as pd\n",
    "from sklearn.preprocessing import LabelEncoder\n",
    "from category_encoders import OneHotEncoder, BinaryEncoder\n",
    "\n",
    "# Sample dataset\n",
    "data = {'categorical_column': ['A', 'B', 'C', 'A', 'B', 'C', 'D', 'E']}\n",
    "df = pd.DataFrame(data)\n",
    "\n",
    "# Count unique values\n",
    "unique_values = df['categorical_column'].nunique()\n",
    "\n",
    "# Set a threshold to decide between encoding methods\n",
    "threshold = 10  # You can adjust this based on your use case\n",
    "\n",
    "if unique_values <= threshold:\n",
    "    # Use Label Encoding\n",
    "    print(f\"Using Label Encoding (Unique values: {unique_values})\")\n",
    "    label_encoder = LabelEncoder()\n",
    "    df['categorical_column_encoded'] = label_encoder.fit_transform(df['categorical_column'])\n",
    "else:\n",
    "    # Use One-Hot or Binary Encoding (You can choose between these based on your preference)\n",
    "    print(f\"Using Binary Encoding (Unique values: {unique_values})\")\n",
    "    encoder = BinaryEncoder(cols=['categorical_column'])\n",
    "    df = encoder.fit_transform(df)\n",
    "\n",
    "# Drop the original column\n",
    "df = df.drop('categorical_column', axis=1, errors='ignore')\n",
    "\n",
    "# View the updated dataframe\n",
    "print(df)\n"
   ]
  },
  {
   "cell_type": "code",
   "execution_count": 16,
   "id": "353e9845",
   "metadata": {
    "execution": {
     "iopub.execute_input": "2024-11-05T16:24:06.418525Z",
     "iopub.status.busy": "2024-11-05T16:24:06.418109Z",
     "iopub.status.idle": "2024-11-05T16:24:06.432152Z",
     "shell.execute_reply": "2024-11-05T16:24:06.431240Z"
    },
    "papermill": {
     "duration": 0.024044,
     "end_time": "2024-11-05T16:24:06.434717",
     "exception": false,
     "start_time": "2024-11-05T16:24:06.410673",
     "status": "completed"
    },
    "tags": []
   },
   "outputs": [],
   "source": [
    "import pandas as pd\n",
    "from sklearn.model_selection import train_test_split\n",
    "from sklearn.preprocessing import LabelEncoder\n",
    "\n",
    "# Load the dataset\n",
    "data = pd.read_csv('/kaggle/input/dai-tut-2/Plastic Waste Around the World.csv')\n",
    "\n",
    "# Encode categorical variables\n",
    "label_encoder = LabelEncoder()\n",
    "\n",
    "# Encode the target variable 'Coastal_Waste_Risk'\n",
    "data['Coastal_Waste_Risk'] = label_encoder.fit_transform(data['Coastal_Waste_Risk'])\n",
    "\n",
    "# Encode the 'Main_Sources' column as it contains categorical data\n",
    "data['Main_Sources'] = label_encoder.fit_transform(data['Main_Sources'])\n",
    "\n",
    "# Drop the 'Country' column since it's not a relevant feature for modeling\n",
    "data = data.drop(columns=['Country'])\n",
    "\n",
    "# Separate features (X) and target (y)\n",
    "X = data.drop(columns=['Coastal_Waste_Risk'])\n",
    "y = data['Coastal_Waste_Risk']\n",
    "\n",
    "# Split the data into training and validation sets\n",
    "X_train, X_valid, y_train, y_valid = train_test_split(X, y, test_size=0.2, random_state=42)\n"
   ]
  },
  {
   "cell_type": "code",
   "execution_count": 17,
   "id": "0842a4a4",
   "metadata": {
    "execution": {
     "iopub.execute_input": "2024-11-05T16:24:06.449458Z",
     "iopub.status.busy": "2024-11-05T16:24:06.448710Z",
     "iopub.status.idle": "2024-11-05T16:24:10.828953Z",
     "shell.execute_reply": "2024-11-05T16:24:10.827652Z"
    },
    "papermill": {
     "duration": 4.39148,
     "end_time": "2024-11-05T16:24:10.832614",
     "exception": false,
     "start_time": "2024-11-05T16:24:06.441134",
     "status": "completed"
    },
    "tags": []
   },
   "outputs": [
    {
     "name": "stdout",
     "output_type": "stream",
     "text": [
      "Accuracy: 0.45\n",
      "\n",
      "Classification Report:\n",
      "              precision    recall  f1-score   support\n",
      "\n",
      "           0       0.46      0.92      0.61        12\n",
      "           1       0.44      0.36      0.40        11\n",
      "           2       0.00      0.00      0.00         9\n",
      "           3       0.00      0.00      0.00         1\n",
      "\n",
      "    accuracy                           0.45        33\n",
      "   macro avg       0.23      0.32      0.25        33\n",
      "weighted avg       0.31      0.45      0.36        33\n",
      "\n",
      "\n",
      "Confusion Matrix:\n",
      "[[11  1  0  0]\n",
      " [ 7  4  0  0]\n",
      " [ 6  3  0  0]\n",
      " [ 0  1  0  0]]\n"
     ]
    },
    {
     "name": "stderr",
     "output_type": "stream",
     "text": [
      "/opt/conda/lib/python3.10/site-packages/sklearn/metrics/_classification.py:1344: UndefinedMetricWarning: Precision and F-score are ill-defined and being set to 0.0 in labels with no predicted samples. Use `zero_division` parameter to control this behavior.\n",
      "  _warn_prf(average, modifier, msg_start, len(result))\n",
      "/opt/conda/lib/python3.10/site-packages/sklearn/metrics/_classification.py:1344: UndefinedMetricWarning: Precision and F-score are ill-defined and being set to 0.0 in labels with no predicted samples. Use `zero_division` parameter to control this behavior.\n",
      "  _warn_prf(average, modifier, msg_start, len(result))\n",
      "/opt/conda/lib/python3.10/site-packages/sklearn/metrics/_classification.py:1344: UndefinedMetricWarning: Precision and F-score are ill-defined and being set to 0.0 in labels with no predicted samples. Use `zero_division` parameter to control this behavior.\n",
      "  _warn_prf(average, modifier, msg_start, len(result))\n"
     ]
    }
   ],
   "source": [
    "from sklearn.svm import SVC\n",
    "from sklearn.metrics import accuracy_score, classification_report, confusion_matrix\n",
    "\n",
    "# Initialize the SVM model with a linear kernel\n",
    "svm_model = SVC(kernel='linear', random_state=42)\n",
    "\n",
    "# Train the model on the training set\n",
    "svm_model.fit(X_train, y_train)\n",
    "\n",
    "# Make predictions on the validation set\n",
    "y_pred = svm_model.predict(X_valid)\n",
    "\n",
    "# Evaluate the model\n",
    "accuracy = accuracy_score(y_valid, y_pred)\n",
    "classification_rep = classification_report(y_valid, y_pred)\n",
    "confusion_mat = confusion_matrix(y_valid, y_pred)\n",
    "\n",
    "# Display results\n",
    "print(f'Accuracy: {accuracy:.2f}')\n",
    "print(\"\\nClassification Report:\")\n",
    "print(classification_rep)\n",
    "print(\"\\nConfusion Matrix:\")\n",
    "print(confusion_mat)\n"
   ]
  }
 ],
 "metadata": {
  "kaggle": {
   "accelerator": "none",
   "dataSources": [
    {
     "datasetId": 6013649,
     "sourceId": 9810032,
     "sourceType": "datasetVersion"
    }
   ],
   "dockerImageVersionId": 30786,
   "isGpuEnabled": false,
   "isInternetEnabled": false,
   "language": "python",
   "sourceType": "notebook"
  },
  "kernelspec": {
   "display_name": "Python 3",
   "language": "python",
   "name": "python3"
  },
  "language_info": {
   "codemirror_mode": {
    "name": "ipython",
    "version": 3
   },
   "file_extension": ".py",
   "mimetype": "text/x-python",
   "name": "python",
   "nbconvert_exporter": "python",
   "pygments_lexer": "ipython3",
   "version": "3.10.14"
  },
  "papermill": {
   "default_parameters": {},
   "duration": 10.905252,
   "end_time": "2024-11-05T16:24:11.460193",
   "environment_variables": {},
   "exception": null,
   "input_path": "__notebook__.ipynb",
   "output_path": "__notebook__.ipynb",
   "parameters": {},
   "start_time": "2024-11-05T16:24:00.554941",
   "version": "2.6.0"
  }
 },
 "nbformat": 4,
 "nbformat_minor": 5
}
